{
 "cells": [
  {
   "cell_type": "code",
   "execution_count": 3,
   "id": "c22c043c-63f0-4ee0-a0c1-06681048b8f9",
   "metadata": {},
   "outputs": [
    {
     "data": {
      "text/plain": [
       "'1.2.5'"
      ]
     },
     "execution_count": 3,
     "metadata": {},
     "output_type": "execute_result"
    }
   ],
   "source": [
    "import pandas as pd\n",
    "pd.__version__"
   ]
  },
  {
   "cell_type": "markdown",
   "id": "8787fe77-970d-4feb-bd1f-b0f327f0be7e",
   "metadata": {},
   "source": [
    "<a src=\"https://pandas.pydata.org/pandas-docs/stable/user_guide/basics.html#iteration\">pandas 공식 문서의 iteration</a> 내용을 기초로 기술하였다.  pandas는 series와 dataframe이라는 두 개의 자료형을 갖고 있다.  이들에 대해 파이썬의 for loop을 사용하면 각각 다른 값들이 순환 변수에 입력된다.  Series에 for loop를 적용하면 각각의 값이, dataframe에 적용하면 column 이름이 순환된다."
   ]
  },
  {
   "cell_type": "code",
   "execution_count": 2,
   "id": "e3832340-2a2b-459f-98db-fdf3f1bfeb1e",
   "metadata": {},
   "outputs": [
    {
     "name": "stdout",
     "output_type": "stream",
     "text": [
      "Series의 for loop입니다.\n",
      "1 : <class 'int'>\n",
      "2 : <class 'int'>\n",
      "3 : <class 'int'>\n",
      "4 : <class 'int'>\n",
      "5 : <class 'int'>\n",
      "\n",
      "Dataframe의 for loop입니다.\n",
      "컬럼1 : <class 'str'>\n",
      "컬럼2 : <class 'str'>\n"
     ]
    }
   ],
   "source": [
    "srs = pd.Series([1, 2, 3, 4, 5])\n",
    "df = pd.DataFrame({'컬럼1': [1, 2, 3], '컬럼2': [4, 5, 6]})\n",
    "\n",
    "print(\"Series의 for loop입니다.\")\n",
    "for what in srs:\n",
    "    print(f\"{what} : {type(what)}\")\n",
    "print()    \n",
    "\n",
    "print(\"Dataframe의 for loop입니다.\")\n",
    "for what in df:\n",
    "    print(f\"{what} : {type(what)}\")"
   ]
  },
  {
   "cell_type": "markdown",
   "id": "786421b5-e3c7-401a-860b-4dbc03b16666",
   "metadata": {},
   "source": [
    "pandas opject는 dict처럼 (key, value)를 순환할 수 있는 items라는 메서드를 갖고 있다. 아래와 같이 사용하면 된다."
   ]
  },
  {
   "cell_type": "code",
   "execution_count": 8,
   "id": "6ea00400-1f45-41b6-8285-188cc061bda8",
   "metadata": {},
   "outputs": [
    {
     "name": "stdout",
     "output_type": "stream",
     "text": [
      "Series.item()의 for loop입니다.\n",
      "0 (<class 'int'>) : 1 <class 'int'>\n",
      "1 (<class 'int'>) : 2 <class 'int'>\n",
      "2 (<class 'int'>) : 3 <class 'int'>\n",
      "3 (<class 'int'>) : 4 <class 'int'>\n",
      "4 (<class 'int'>) : 5 <class 'int'>\n"
     ]
    }
   ],
   "source": [
    "print(\"Series.item()의 for loop입니다.\")\n",
    "for key, value in srs.items():\n",
    "    print(f\"{key} ({type(key)}) : {value} {type(value)}\")"
   ]
  },
  {
   "cell_type": "code",
   "execution_count": 15,
   "id": "3a0030b3-93d8-4c3a-9488-666f5b226670",
   "metadata": {},
   "outputs": [
    {
     "name": "stdout",
     "output_type": "stream",
     "text": [
      "Dataframe의 for loop입니다.\n",
      "\n",
      "key 컬럼1\n",
      "value \n",
      "0    1\n",
      "1    2\n",
      "2    3\n",
      "Name: 컬럼1, dtype: int64\n",
      "\n",
      "key 컬럼2\n",
      "value \n",
      "0    4\n",
      "1    5\n",
      "2    6\n",
      "Name: 컬럼2, dtype: int64\n",
      "\n"
     ]
    }
   ],
   "source": [
    "print(\"Dataframe의 for loop입니다.\")\n",
    "print()\n",
    "for key, value in df.items():\n",
    "    print(f\"key {key}\")\n",
    "    print(f\"value \\n{value}\")\n",
    "    print()"
   ]
  },
  {
   "cell_type": "code",
   "execution_count": null,
   "id": "fc974666-b514-4f95-8140-246d6c0f4722",
   "metadata": {},
   "outputs": [],
   "source": []
  }
 ],
 "metadata": {
  "kernelspec": {
   "display_name": "Python 3",
   "language": "python",
   "name": "python3"
  },
  "language_info": {
   "codemirror_mode": {
    "name": "ipython",
    "version": 3
   },
   "file_extension": ".py",
   "mimetype": "text/x-python",
   "name": "python",
   "nbconvert_exporter": "python",
   "pygments_lexer": "ipython3",
   "version": "3.9.5"
  }
 },
 "nbformat": 4,
 "nbformat_minor": 5
}
